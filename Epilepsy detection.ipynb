{
 "cells": [
  {
   "cell_type": "code",
   "execution_count": 1,
   "metadata": {},
   "outputs": [],
   "source": [
    "import numpy as np\n",
    "import cv2\n",
    "import pyautogui\n",
    "import time\n",
    "from matplotlib import pyplot as plt"
   ]
  },
  {
   "cell_type": "code",
   "execution_count": 2,
   "metadata": {},
   "outputs": [],
   "source": [
    "#getting first frame\n",
    "imgPrev = pyautogui.screenshot()\n",
    "imgPrev = cv2.cvtColor(np.array(imgPrev), cv2.COLOR_RGB2BGR)\n",
    "\n",
    "#defining number of screen to be divided into     \n",
    "div = 10\n",
    "\n",
    "x, y, z = imgPrev.shape\n",
    "xit = x//div\n",
    "yit = y//div\n",
    "\n",
    "Histogram_comparison_threshold = 0.85\n",
    "Danger_Frame_Limit = 4\n",
    "\n",
    "protection = cv2.imread(\"Seizure_W.jpg\")\n",
    "\n",
    "DetectionRecord = []"
   ]
  },
  {
   "cell_type": "code",
   "execution_count": 3,
   "metadata": {},
   "outputs": [],
   "source": [
    "def tic():\n",
    "    global t\n",
    "    t = time.time()\n",
    "\n",
    "def toc():\n",
    "    global t\n",
    "    elapsed = time.time() - t\n",
    "    #print(elapsed,\" Seconds Elapsed\")"
   ]
  },
  {
   "cell_type": "code",
   "execution_count": 4,
   "metadata": {},
   "outputs": [],
   "source": [
    "def ScanScreen(imgO, imgN):\n",
    "    dangerMap = np.zeros((div,div),dtype = np.bool)\n",
    "    \n",
    "    #Iterating through the screen divisions\n",
    "    for X in range(0, div):\n",
    "        for Y in range(0, div):\n",
    "            \n",
    "            histS1 = cv2.calcHist([imgO[X*div:(X+1)*div,Y*div:(Y+1)*div]],[0],None,[256],[0,256])\n",
    "            histS2 = cv2.calcHist([imgN[X*div:(X+1)*div,Y*div:(Y+1)*div]],[0],None,[256],[0,256])\n",
    "            #print(\"Histograms img1=\", histS1, \" img2=\", histS2)\n",
    "        \n",
    "            #sc = cv2.compareHist(histS1, histS2, cv2.HISTCMP_INTERSECT)\n",
    "            sc = cv2.compareHist(histS1, histS2, cv2.HISTCMP_BHATTACHARYYA)\n",
    "            #print(\"Compared Hist at X=\", X, \" Y=\", Y, \" : \", sc)\n",
    "            dangerMap[X,Y] = sc > Histogram_comparison_threshold\n",
    "            \n",
    "    return dangerMap"
   ]
  },
  {
   "cell_type": "code",
   "execution_count": 5,
   "metadata": {},
   "outputs": [],
   "source": [
    "def ScanRecord(record):\n",
    "    DangerCounts = np.zeros((div, div),dtype = np.uint8)\n",
    "    \n",
    "    for dMap in record:\n",
    "        DangerCounts = np.add(DangerCounts, dMap.astype(int))\n",
    "    \n",
    "    return np.any(np.greater(DangerCounts, Danger_Frame_Limit))"
   ]
  },
  {
   "cell_type": "code",
   "execution_count": 14,
   "metadata": {},
   "outputs": [
    {
     "name": "stdout",
     "output_type": "stream",
     "text": [
      "prevented\n",
      "prevented\n"
     ]
    }
   ],
   "source": [
    "#getting first frame\n",
    "imgPrev = pyautogui.screenshot()\n",
    "imgPrev = cv2.cvtColor(np.array(imgPrev), cv2.COLOR_RGB2BGR)\n",
    "\n",
    "while(True):  \n",
    "    tic()\n",
    "    #getting new frame\n",
    "    imgNew = pyautogui.screenshot()\n",
    "    imgNew = cv2.cvtColor(np.array(imgNew), cv2.COLOR_RGB2BGR)\n",
    "    \n",
    "    #checking if screenshot exists\n",
    "    if imgNew is not None:\n",
    "        #cv2.imshow(\"screenshots\", imgNew)\n",
    "        DetectionRecord.append(ScanScreen(imgPrev, imgNew))\n",
    "        if len(DetectionRecord) > 10:\n",
    "            DetectionRecord.pop(0)\n",
    "            #checking if record has more danger frames than limit\n",
    "            if ScanRecord(DetectionRecord):\n",
    "                # PREVENT\n",
    "                \n",
    "                print(\"prevented\")\n",
    "                cv2.imshow(\"Seizure Prevention\", protection)\n",
    "                \n",
    "                #DetectionRecord.clear()\n",
    "                DetectionRecord = []\n",
    "            \n",
    "        \n",
    "        imgPrev = imgNew\n",
    "        if cv2.waitKey(1) & 0xFF == ord('q'):\n",
    "#             cv2.destroyAllWindows()\n",
    "#             continue\n",
    "            break\n",
    "    \n",
    "    else:\n",
    "        print(\"No new frame captured\")\n",
    "        \n",
    "    toc()\n",
    "\n",
    "#cv2.waitKey(0)\n",
    "cv2.destroyAllWindows()"
   ]
  },
  {
   "cell_type": "code",
   "execution_count": null,
   "metadata": {},
   "outputs": [],
   "source": []
  },
  {
   "cell_type": "code",
   "execution_count": null,
   "metadata": {},
   "outputs": [],
   "source": []
  }
 ],
 "metadata": {
  "kernelspec": {
   "display_name": "Python 3",
   "language": "python",
   "name": "python3"
  },
  "language_info": {
   "codemirror_mode": {
    "name": "ipython",
    "version": 3
   },
   "file_extension": ".py",
   "mimetype": "text/x-python",
   "name": "python",
   "nbconvert_exporter": "python",
   "pygments_lexer": "ipython3",
   "version": "3.7.6"
  }
 },
 "nbformat": 4,
 "nbformat_minor": 4
}
